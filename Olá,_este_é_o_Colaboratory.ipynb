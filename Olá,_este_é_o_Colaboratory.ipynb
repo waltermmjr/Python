{
  "cells": [
    {
      "cell_type": "markdown",
      "metadata": {
        "id": "view-in-github",
        "colab_type": "text"
      },
      "source": [
        "<a href=\"https://colab.research.google.com/github/waltermmjr/Python/blob/main/Ol%C3%A1%2C_este_%C3%A9_o_Colaboratory.ipynb\" target=\"_parent\"><img src=\"https://colab.research.google.com/assets/colab-badge.svg\" alt=\"Open In Colab\"/></a>"
      ]
    },
    {
      "cell_type": "code",
      "source": [
        "texto = \"Aprendendo PythoN na disciplina de linguagem de programação.\"\n",
        "texto_upper = texto.upper()\n",
        "print(texto_upper)\n",
        "\n",
        "# print(f\"Tamanho do texto = {len(texto)}\")\n",
        "\n",
        "print(f\"Python in texto = {'PYTHON' in texto_upper}\")\n",
        "\n",
        "\n",
        "\n",
        "\n",
        "print(f\"Quantidade de 'a' no texto = {texto_upper.count('A')}\")\n",
        "\n",
        "\n",
        "# print(f\"As 5 primeiras letras são: {texto[0:6]}\")"
      ],
      "metadata": {
        "id": "-ITyr9tc8cfF"
      },
      "execution_count": null,
      "outputs": []
    },
    {
      "cell_type": "code",
      "source": [
        "texto = \"Aprendendo Python na disciplina de linguagem de programação.\"\n",
        "print(f\"texto = {texto}\")\n",
        "print(f\"Tamanho do texto = {len(texto)}\\n\")\n",
        "\n",
        "palavras = texto.split()\n",
        "print(f\"palavras = {palavras}\")\n",
        "print(f\"Tamanho de palavras = {len(palavras)}\")"
      ],
      "metadata": {
        "id": "vOgyqs1VFVTw"
      },
      "execution_count": null,
      "outputs": []
    }
  ],
  "metadata": {
    "colab": {
      "name": "Olá, este é o Colaboratory",
      "provenance": [],
      "include_colab_link": true
    },
    "kernelspec": {
      "display_name": "Python 3",
      "name": "python3"
    }
  },
  "nbformat": 4,
  "nbformat_minor": 0
}