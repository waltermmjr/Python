{
  "cells": [
    {
      "cell_type": "markdown",
      "metadata": {
        "id": "view-in-github",
        "colab_type": "text"
      },
      "source": [
        "<a href=\"https://colab.research.google.com/github/waltermmjr/Python/blob/main/Ol%C3%A1%2C_este_%C3%A9_o_Colaboratory.ipynb\" target=\"_parent\"><img src=\"https://colab.research.google.com/assets/colab-badge.svg\" alt=\"Open In Colab\"/></a>"
      ]
    },
    {
      "cell_type": "code",
      "source": [
        "# Bem-vindo à Máquina de Venda Automática de Ingressos de Cinema!\n",
        "# Solicita a idade do cliente\n",
        "\n",
        "idade = int(input('Por favor, digite sua idade: '))\n",
        "\n",
        "# Verifica a idade para sugestão de filmes\n",
        "\n",
        "if idade < 12:\n",
        "    print('Recomendamos o filme infantil FILME 1.')\n",
        "elif 12 <= idade < 18:\n",
        "    print('Recomendamos o filme adolescente FILME 2.')\n",
        "else:\n",
        "    print('Recomendamos o emocionante FILME 3.')\n",
        "\n",
        "# Verifica a disponibilidade de ingressos\n",
        "quantidade_ingressos = 10  # Suponha que haja 10 ingressos disponíveis\n",
        "\n",
        "if quantidade_ingressos > 0:\n",
        "    print('Ingressos estão disponíveis. Divirta-se no cinema!')\n",
        "else:\n",
        "    print('Desculpe, todos os ingressos estão esgotados para hoje.')"
      ],
      "metadata": {
        "id": "miGiV8B4BpL7"
      },
      "execution_count": null,
      "outputs": []
    },
    {
      "cell_type": "code",
      "source": [
        "numero = int(input('Digite um número (ou 0 para sair)'))\n",
        "while numero != 0:\n",
        "    if numero % 2 == 0:\n",
        "        print('O número digitado é par.')\n",
        "    else:\n",
        "        print('O número digitado é impar.')\n",
        "    numero = int(input('Digite um número (ou 0 para sair)'))"
      ],
      "metadata": {
        "id": "sNMXGp4jENSL"
      },
      "execution_count": null,
      "outputs": []
    },
    {
      "cell_type": "code",
      "source": [
        "#testando range, break\n",
        "for numero in range(1, 11):\n",
        "    if numero % 2 == 0:\n",
        "\n",
        "        print(f'O primeiro número par é {numero}')\n",
        "\n",
        "        break"
      ],
      "metadata": {
        "id": "EcwQbViMmBNG"
      },
      "execution_count": null,
      "outputs": []
    },
    {
      "cell_type": "code",
      "source": [
        "#Classificador de filmes\n",
        "filmes = ['Filme 1','Filme 2','Filme 3','Filme 4','Filme 5']\n",
        "tamanho = len(filmes)\n",
        "#Mensagem boas vindas\n",
        "print('Bem vindo a classificação de filmes!')\n",
        "print(f'Você tem {tamanho} filmes pra classificar.')\n",
        "print('Digite 0 a qualquer momento para parar.\\n')\n",
        "\n",
        "#faz a varredura na lista de filmes\n",
        "classificacao = 1\n",
        "\n",
        "\n",
        "while classificacao != 0 :\n",
        "\n",
        "    for filme in filmes:\n",
        "        classificacao = int(input(f'{filme}, classifique com nota de 1 a 5? (ou 0 para parar): '))\n",
        "\n",
        "        if classificacao == 0:\n",
        "            break # Sai do loop interno\n",
        "        elif classificacao < 1 or classificacao > 5:\n",
        "            print('O número informado não é válido.\\nPor favor, digite uma classificação válida de 1 a 5.\\n')\n",
        "\n",
        "        else:\n",
        "            print(f'{filme} com {classificacao} estrelas.\\n')\n",
        "\n",
        "    #testa se concluiu o que classificar\n",
        "    if filme == filmes[tamanho-1]:\n",
        "        print(f'Todos Filmes foram classificados.')\n",
        "        break\n",
        "\n",
        "print(f'fim do programa.')"
      ],
      "metadata": {
        "id": "pDroG0MAokZ6"
      },
      "execution_count": null,
      "outputs": []
    }
  ],
  "metadata": {
    "colab": {
      "name": "Olá, este é o Colaboratory",
      "provenance": [],
      "include_colab_link": true
    },
    "kernelspec": {
      "display_name": "Python 3",
      "name": "python3"
    }
  },
  "nbformat": 4,
  "nbformat_minor": 0
}