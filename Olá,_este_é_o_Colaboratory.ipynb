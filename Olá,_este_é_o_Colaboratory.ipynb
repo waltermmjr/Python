{
  "cells": [
    {
      "cell_type": "markdown",
      "metadata": {
        "id": "view-in-github",
        "colab_type": "text"
      },
      "source": [
        "<a href=\"https://colab.research.google.com/github/waltermmjr/Python/blob/main/Ol%C3%A1%2C_este_%C3%A9_o_Colaboratory.ipynb\" target=\"_parent\"><img src=\"https://colab.research.google.com/assets/colab-badge.svg\" alt=\"Open In Colab\"/></a>"
      ]
    },
    {
      "cell_type": "code",
      "source": [
        "# Bem-vindo à Máquina de Venda Automática de Ingressos de Cinema!\n",
        "# Solicita a idade do cliente\n",
        "\n",
        "idade = int(input('Por favor, digite sua idade: '))\n",
        "\n",
        "# Verifica a idade para sugestão de filmes\n",
        "\n",
        "if idade < 12:\n",
        "    print('Recomendamos o filme infantil FILME 1.')\n",
        "elif 12 <= idade < 18:\n",
        "    print('Recomendamos o filme adolescente FILME 2.')\n",
        "else:\n",
        "    print('Recomendamos o emocionante FILME 3.')\n",
        "\n",
        "# Verifica a disponibilidade de ingressos\n",
        "quantidade_ingressos = 10  # Suponha que haja 10 ingressos disponíveis\n",
        "\n",
        "if quantidade_ingressos > 0:\n",
        "    print('Ingressos estão disponíveis. Divirta-se no cinema!')\n",
        "else:\n",
        "    print('Desculpe, todos os ingressos estão esgotados para hoje.')"
      ],
      "metadata": {
        "id": "miGiV8B4BpL7"
      },
      "execution_count": null,
      "outputs": []
    },
    {
      "cell_type": "code",
      "source": [
        "numero = int(input('Digite um número (ou 0 para sair)'))\n",
        "while numero != 0:\n",
        "    if numero % 2 == 0:\n",
        "        print('O número digitado é par.')\n",
        "    else:\n",
        "        print('O número digitado é impar.')\n",
        "    numero = int(input('Digite um número (ou 0 para sair)'))"
      ],
      "metadata": {
        "id": "sNMXGp4jENSL"
      },
      "execution_count": null,
      "outputs": []
    },
    {
      "cell_type": "code",
      "source": [
        "for x in range(2,10):\n",
        "\n",
        "    print(x)"
      ],
      "metadata": {
        "id": "3baHOiQhgYoV"
      },
      "execution_count": null,
      "outputs": []
    },
    {
      "cell_type": "code",
      "source": [
        "for numero in range(1, 11):\n",
        "    if numero % 2 == 0:\n",
        "\n",
        "        print(f'O primeiro número par é {numero}')\n",
        "\n",
        "        break\n",
        "print(numero)"
      ],
      "metadata": {
        "id": "EcwQbViMmBNG",
        "outputId": "958f3b7d-0719-480d-fa4c-1013a5e3ea3c",
        "colab": {
          "base_uri": "https://localhost:8080/"
        }
      },
      "execution_count": 26,
      "outputs": [
        {
          "output_type": "stream",
          "name": "stdout",
          "text": [
            "O primeiro número par é 2\n",
            "2\n"
          ]
        }
      ]
    }
  ],
  "metadata": {
    "colab": {
      "name": "Olá, este é o Colaboratory",
      "provenance": [],
      "include_colab_link": true
    },
    "kernelspec": {
      "display_name": "Python 3",
      "name": "python3"
    }
  },
  "nbformat": 4,
  "nbformat_minor": 0
}