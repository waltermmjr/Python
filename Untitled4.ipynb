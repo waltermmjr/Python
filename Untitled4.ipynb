{
  "nbformat": 4,
  "nbformat_minor": 0,
  "metadata": {
    "colab": {
      "provenance": [],
      "authorship_tag": "ABX9TyN6i1CHgnDRL3R8PNm+4ZlC",
      "include_colab_link": true
    },
    "kernelspec": {
      "name": "python3",
      "display_name": "Python 3"
    },
    "language_info": {
      "name": "python"
    }
  },
  "cells": [
    {
      "cell_type": "markdown",
      "metadata": {
        "id": "view-in-github",
        "colab_type": "text"
      },
      "source": [
        "<a href=\"https://colab.research.google.com/github/waltermmjr/Python/blob/main/Untitled4.ipynb\" target=\"_parent\"><img src=\"https://colab.research.google.com/assets/colab-badge.svg\" alt=\"Open In Colab\"/></a>"
      ]
    },
    {
      "cell_type": "code",
      "execution_count": 9,
      "metadata": {
        "colab": {
          "base_uri": "https://localhost:8080/"
        },
        "id": "X8BMK0OSf5ub",
        "outputId": "eb477e44-891b-49f7-e12f-0ff005346e2e"
      },
      "outputs": [
        {
          "output_type": "stream",
          "name": "stdout",
          "text": [
            "Tamanho do texto = 348\n",
            "Tamanho da lista de palavras = 58\n",
            "['operadores', 'de', 'string', 'python', 'oferece', 'operadores', 'para', 'processar', 'texto', 'ou']\n",
            "Quantidade de vezes que string ou strings aparecem = 4\n"
          ]
        }
      ],
      "source": [
        "texto = \"\"\"Operadores de String\n",
        "Python oferece operadores para processar texto (ou seja, valores de string).\n",
        "Assim como os números, as strings podem ser comparadas usando operadores de comparação:\n",
        "==, !=, <, > e assim por diante.\n",
        "O operador ==, por exemplo, retorna True se as strings nos dois lados do operador tiverem o mesmo valor (Perkovic, p. 23, 2016).\n",
        "\"\"\"\n",
        "print(f\"Tamanho do texto = {len(texto)}\")\n",
        "texto = texto.lower()\n",
        "texto = texto.replace(\",\", \"\").replace(\".\", \"\").replace(\"(\", \"\").replace(\")\", \"\").replace(\"\\n\", \" \")\n",
        "lista_palavras = texto.split()\n",
        "print(f\"Tamanho da lista de palavras = {len(lista_palavras)}\")\n",
        "print(lista_palavras[:10])\n",
        "\n",
        "total = lista_palavras.count(\"string\") + lista_palavras.count(\"strings\")\n",
        "\n",
        "print(f\"Quantidade de vezes que string ou strings aparecem = {total}\")"
      ]
    },
    {
      "cell_type": "code",
      "source": [
        "#listas\n",
        "vogais = ['a', 'e', 'i', 'o', 'u'] # também poderia ter sido criada usando aspas duplas\n",
        "\n",
        "for vogal in vogais:\n",
        "    print (f'Posição = {vogais.index(vogal)}, valor = {vogal}')"
      ],
      "metadata": {
        "colab": {
          "base_uri": "https://localhost:8080/"
        },
        "id": "Fh_uSrQe1seW",
        "outputId": "d228a567-27f7-4f73-f237-9333c7370a40"
      },
      "execution_count": 10,
      "outputs": [
        {
          "output_type": "stream",
          "name": "stdout",
          "text": [
            "Posição = 0, valor = a\n",
            "Posição = 1, valor = e\n",
            "Posição = 2, valor = i\n",
            "Posição = 3, valor = o\n",
            "Posição = 4, valor = u\n"
          ]
        }
      ]
    }
  ]
}