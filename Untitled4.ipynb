{
  "nbformat": 4,
  "nbformat_minor": 0,
  "metadata": {
    "colab": {
      "provenance": [],
      "authorship_tag": "ABX9TyPS91TDALzU1z9YzFBKutlW",
      "include_colab_link": true
    },
    "kernelspec": {
      "name": "python3",
      "display_name": "Python 3"
    },
    "language_info": {
      "name": "python"
    }
  },
  "cells": [
    {
      "cell_type": "markdown",
      "metadata": {
        "id": "view-in-github",
        "colab_type": "text"
      },
      "source": [
        "<a href=\"https://colab.research.google.com/github/waltermmjr/Python/blob/main/Untitled4.ipynb\" target=\"_parent\"><img src=\"https://colab.research.google.com/assets/colab-badge.svg\" alt=\"Open In Colab\"/></a>"
      ]
    },
    {
      "cell_type": "code",
      "execution_count": 8,
      "metadata": {
        "colab": {
          "base_uri": "https://localhost:8080/"
        },
        "id": "X8BMK0OSf5ub",
        "outputId": "af28faaf-51a6-471b-8b6d-e36b7a995066"
      },
      "outputs": [
        {
          "output_type": "stream",
          "name": "stdout",
          "text": [
            "Tamanho do texto = 348\n",
            "58\n",
            "2\n",
            "2\n"
          ]
        }
      ],
      "source": [
        "texto = \"\"\"Operadores de String\n",
        "Python oferece operadores para processar texto (ou seja, valores de string).\n",
        "Assim como os números, as strings podem ser comparadas usando operadores de comparação:\n",
        "==, !=, <, > e assim por diante.\n",
        "O operador ==, por exemplo, retorna True se as strings nos dois lados do operador tiverem o mesmo valor (Perkovic, p. 23, 2016).\n",
        "\"\"\"\n",
        "print(f\"Tamanho do texto = {len(texto)}\")\n",
        "texto = texto.lower()\n",
        "\n",
        "texto = texto.replace(\",\", \"\").replace(\".\", \"\").replace(\"(\", \"\").replace(\")\", \"\").replace(\"\\n\", \" \")\n",
        "lista_de_palavras = texto.split()\n",
        "\n",
        "print(len(lista_de_palavras))\n",
        "\n",
        "print(lista_de_palavras.count('string'))\n",
        "print(lista_de_palavras.count('strings'))"
      ]
    }
  ]
}