{
  "nbformat": 4,
  "nbformat_minor": 0,
  "metadata": {
    "colab": {
      "provenance": [],
      "authorship_tag": "ABX9TyNUIj1ibYFzoYCLUeiVR6n5",
      "include_colab_link": true
    },
    "kernelspec": {
      "name": "python3",
      "display_name": "Python 3"
    },
    "language_info": {
      "name": "python"
    }
  },
  "cells": [
    {
      "cell_type": "markdown",
      "metadata": {
        "id": "view-in-github",
        "colab_type": "text"
      },
      "source": [
        "<a href=\"https://colab.research.google.com/github/waltermmjr/Python/blob/main/Untitled4.ipynb\" target=\"_parent\"><img src=\"https://colab.research.google.com/assets/colab-badge.svg\" alt=\"Open In Colab\"/></a>"
      ]
    },
    {
      "cell_type": "code",
      "execution_count": null,
      "metadata": {
        "id": "X8BMK0OSf5ub"
      },
      "outputs": [],
      "source": [
        "texto = \"\"\"Operadores de String\n",
        "Python oferece operadores para processar texto (ou seja, valores de string).\n",
        "Assim como os números, as strings podem ser comparadas usando operadores de comparação:\n",
        "==, !=, <, > e assim por diante.\n",
        "O operador ==, por exemplo, retorna True se as strings nos dois lados do operador tiverem o mesmo valor (Perkovic, p. 23, 2016).\n",
        "\"\"\"\n",
        "print(f\"Tamanho do texto = {len(texto)}\")\n",
        "texto = texto.lower()\n",
        "texto = texto.replace(\",\", \"\").replace(\".\", \"\").replace(\"(\", \"\").replace(\")\", \"\").replace(\"\\n\", \" \")\n",
        "lista_palavras = texto.split()\n",
        "print(f\"Tamanho da lista de palavras = {len(lista_palavras)}\")\n",
        "print(lista_palavras[:10])\n",
        "\n",
        "total = lista_palavras.count(\"string\") + lista_palavras.count(\"strings\")\n",
        "\n",
        "print(f\"Quantidade de vezes que string ou strings aparecem = {total}\")"
      ]
    },
    {
      "cell_type": "code",
      "source": [
        "vogais = ['a','e','i','o','u']\n",
        "\n",
        "print(vogais)\n",
        "print(type(vogais))\n",
        "\n",
        "for vogal in vogais:\n",
        "    print(f'Posição = {vogais.index(vogal)}, valor = {vogal}')"
      ],
      "metadata": {
        "id": "w0jCBFY_6Le1"
      },
      "execution_count": null,
      "outputs": []
    },
    {
      "cell_type": "code",
      "source": [
        "vogais = []\n",
        "print(type(vogais))\n",
        "\n",
        "vogais.append('a')\n",
        "vogais.append('e')\n",
        "vogais.append('i')\n",
        "vogais.append('o')\n",
        "vogais.append('u')\n",
        "\n",
        "for p, x in enumerate(vogais):\n",
        "    print(f'Posição = {p}, valor = {x}')\n",
        "\n"
      ],
      "metadata": {
        "id": "LEf0v88G8Hn3"
      },
      "execution_count": null,
      "outputs": []
    },
    {
      "cell_type": "code",
      "source": [
        "frutas = [\"maça\", \"banana\", \"uva\", \"mamão\", \"maça\", 'abacaxi']\n",
        "notas = [8.7, 5.2, 10, 3.5]\n",
        "\n",
        "print('maça' in frutas)\n",
        "print('abacate' in frutas)\n",
        "print('abacate' not in frutas)\n",
        "print(min(frutas))\n",
        "print(max(notas))\n",
        "print(frutas.count('maça'))\n",
        "print(frutas + notas)\n",
        "print(2*frutas)"
      ],
      "metadata": {
        "id": "1l90NApY-vfZ"
      },
      "execution_count": null,
      "outputs": []
    },
    {
      "cell_type": "code",
      "source": [
        "lista = ['Python', 30.61, \"Java\", 51 , ['a', 'b', 20], \"maça\"]\n",
        "\n",
        "print(f\"Tamanho da lista = {len(lista)}\")\n",
        "\n",
        "for i, item in enumerate(lista):\n",
        "    print(f\"Posição = {i},\\t valor = {item} -----------------> tipo individual = {type(item)}\")\n",
        "\n",
        "print(\"\\nExemplos de slices:\\n\")\n",
        "\n",
        "print(\"lista[1] = \", lista[1])\n",
        "print(\"lista[0:2] = \", lista[0:2])\n",
        "print(\"lista[:2] = \", lista[:2])\n",
        "print(\"lista[3:5] = \", lista[3:5])\n",
        "print(\"lista[3:6] = \", lista[3:6])\n",
        "print(\"lista[3:] = \", lista[3:])\n",
        "print(\"lista[-2] = \", lista[-2])\n",
        "print(\"lista[-1] = \", lista[-1])\n",
        "print(\"lista[4][1] = \", lista[4][1])"
      ],
      "metadata": {
        "colab": {
          "base_uri": "https://localhost:8080/"
        },
        "id": "6E14QC5-Cdbi",
        "outputId": "37a74669-cb0b-4bf1-b121-7d8fddc17121"
      },
      "execution_count": 34,
      "outputs": [
        {
          "output_type": "stream",
          "name": "stdout",
          "text": [
            "Tamanho da lista = 6\n",
            "Posição = 0,\t valor = Python -----------------> tipo individual = <class 'str'>\n",
            "Posição = 1,\t valor = 30.61 -----------------> tipo individual = <class 'float'>\n",
            "Posição = 2,\t valor = Java -----------------> tipo individual = <class 'str'>\n",
            "Posição = 3,\t valor = 51 -----------------> tipo individual = <class 'int'>\n",
            "Posição = 4,\t valor = ['a', 'b', 20] -----------------> tipo individual = <class 'list'>\n",
            "Posição = 5,\t valor = maça -----------------> tipo individual = <class 'str'>\n",
            "\n",
            "Exemplos de slices:\n",
            "\n",
            "lista[1] =  30.61\n",
            "lista[0:2] =  ['Python', 30.61]\n",
            "lista[:2] =  ['Python', 30.61]\n",
            "lista[3:5] =  [51, ['a', 'b', 20]]\n",
            "lista[3:6] =  [51, ['a', 'b', 20], 'maça']\n",
            "lista[3:] =  [51, ['a', 'b', 20], 'maça']\n",
            "lista[-2] =  ['a', 'b', 20]\n",
            "lista[-1] =  maça\n",
            "lista[4][1] =  b\n"
          ]
        }
      ]
    }
  ]
}