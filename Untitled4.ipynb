{
  "nbformat": 4,
  "nbformat_minor": 0,
  "metadata": {
    "colab": {
      "provenance": [],
      "authorship_tag": "ABX9TyPPKw3QMHK4E8dVfqDMJZTx",
      "include_colab_link": true
    },
    "kernelspec": {
      "name": "python3",
      "display_name": "Python 3"
    },
    "language_info": {
      "name": "python"
    }
  },
  "cells": [
    {
      "cell_type": "markdown",
      "metadata": {
        "id": "view-in-github",
        "colab_type": "text"
      },
      "source": [
        "<a href=\"https://colab.research.google.com/github/waltermmjr/Python/blob/main/Untitled4.ipynb\" target=\"_parent\"><img src=\"https://colab.research.google.com/assets/colab-badge.svg\" alt=\"Open In Colab\"/></a>"
      ]
    },
    {
      "cell_type": "code",
      "execution_count": null,
      "metadata": {
        "id": "X8BMK0OSf5ub"
      },
      "outputs": [],
      "source": [
        "texto = \"\"\"Operadores de String\n",
        "Python oferece operadores para processar texto (ou seja, valores de string).\n",
        "Assim como os números, as strings podem ser comparadas usando operadores de comparação:\n",
        "==, !=, <, > e assim por diante.\n",
        "O operador ==, por exemplo, retorna True se as strings nos dois lados do operador tiverem o mesmo valor (Perkovic, p. 23, 2016).\n",
        "\"\"\"\n",
        "print(f\"Tamanho do texto = {len(texto)}\")\n",
        "texto = texto.lower()\n",
        "texto = texto.replace(\",\", \"\").replace(\".\", \"\").replace(\"(\", \"\").replace(\")\", \"\").replace(\"\\n\", \" \")\n",
        "lista_palavras = texto.split()\n",
        "print(f\"Tamanho da lista de palavras = {len(lista_palavras)}\")\n",
        "print(lista_palavras[:10])\n",
        "\n",
        "total = lista_palavras.count(\"string\") + lista_palavras.count(\"strings\")\n",
        "\n",
        "print(f\"Quantidade de vezes que string ou strings aparecem = {total}\")"
      ]
    },
    {
      "cell_type": "code",
      "source": [
        "vogais = ['a','e','i','o','u']\n",
        "\n",
        "print(vogais)\n",
        "print(type(vogais))\n",
        "\n",
        "for vogal in vogais:\n",
        "    print(f'Posição = {vogais.index(vogal)}, valor = {vogal}')"
      ],
      "metadata": {
        "id": "w0jCBFY_6Le1"
      },
      "execution_count": null,
      "outputs": []
    },
    {
      "cell_type": "code",
      "source": [
        "vogais = []\n",
        "print(type(vogais))\n",
        "\n",
        "vogais.append('a')\n",
        "vogais.append('e')\n",
        "vogais.append('i')\n",
        "vogais.append('o')\n",
        "vogais.append('u')\n",
        "\n",
        "for p, x in enumerate(vogais):\n",
        "    print(f'Posição = {p}, valor = {x}')\n",
        "\n"
      ],
      "metadata": {
        "id": "LEf0v88G8Hn3"
      },
      "execution_count": null,
      "outputs": []
    },
    {
      "cell_type": "code",
      "source": [
        "frutas = [\"maça\", \"banana\", \"uva\", \"mamão\", \"maça\"]\n",
        "notas = [8.7, 5.2, 10, 3.5]\n",
        "\n",
        "print('maça' in frutas)\n",
        "print('abacate' in frutas)\n",
        "print('abacate' not in frutas)\n",
        "print(min(frutas))\n",
        "print(max(notas))\n",
        "print(frutas.count('maça'))\n",
        "print(frutas + notas)\n",
        "print(2*frutas)"
      ],
      "metadata": {
        "colab": {
          "base_uri": "https://localhost:8080/"
        },
        "id": "1l90NApY-vfZ",
        "outputId": "a07639c5-8314-469f-ac9a-3826a4a6cda0"
      },
      "execution_count": 31,
      "outputs": [
        {
          "output_type": "stream",
          "name": "stdout",
          "text": [
            "True\n",
            "False\n",
            "True\n",
            "banana\n",
            "10\n",
            "2\n",
            "['maça', 'banana', 'uva', 'mamão', 'maça', 8.7, 5.2, 10, 3.5]\n",
            "['maça', 'banana', 'uva', 'mamão', 'maça', 'maça', 'banana', 'uva', 'mamão', 'maça']\n"
          ]
        }
      ]
    }
  ]
}